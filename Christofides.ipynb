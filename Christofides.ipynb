{
 "cells": [
  {
   "cell_type": "markdown",
   "metadata": {},
   "source": [
    "# Algorytm Christofidesa"
   ]
  },
  {
   "cell_type": "markdown",
   "metadata": {},
   "source": [
    "Algorytm Christofidesa jest algorytmem z ograniczeniem względnym $2$ znajdującym przybliżone rozwiązanie problemu komiwojażera dla grafu $G$.\n",
    "1. Zbuduj minimalne drzewo rozpinające $T$ na $G$;\n",
    "2. wybierz dowolny $r\\in V(G)$ jako korzeń $T$;\n",
    "3. niech $L$ będzie listą wierzchołków drzewa $T$ w kolejności preorder;\n",
    "4. zwróć cykl Hamiltona odwiedzający wierzchołki w kolejności L."
   ]
  },
  {
   "cell_type": "code",
   "execution_count": 1,
   "metadata": {},
   "outputs": [
    {
     "name": "stdout",
     "output_type": "stream",
     "text": [
      "1: (2, 3) (3, 5) (4, 1) (5, 5) (6, 5) (7, 5) (8, 3) (9, 4) (10, 6)\n",
      "2: (1, 3) (3, 2) (4, 4) (5, 2) (6, 8) (7, 9) (8, 1) (9, 6) (10, 9)\n",
      "3: (1, 5) (2, 2) (4, 9) (5, 5) (6, 6) (7, 3) (8, 4) (9, 7) (10, 6)\n",
      "4: (1, 1) (2, 4) (3, 9) (5, 10) (6, 9) (7, 1) (8, 9) (9, 2) (10, 5)\n",
      "5: (1, 5) (2, 2) (3, 5) (4, 10) (6, 7) (7, 9) (8, 8) (9, 1) (10, 2)\n",
      "6: (1, 5) (2, 8) (3, 6) (4, 9) (5, 7) (7, 9) (8, 5) (9, 6) (10, 8)\n",
      "7: (1, 5) (2, 9) (3, 3) (4, 1) (5, 9) (6, 9) (8, 3) (9, 3) (10, 2)\n",
      "8: (1, 3) (2, 1) (3, 4) (4, 9) (5, 8) (6, 5) (7, 3) (9, 4) (10, 3)\n",
      "9: (1, 4) (2, 6) (3, 7) (4, 2) (5, 1) (6, 6) (7, 3) (8, 4) (10, 8)\n",
      "10: (1, 6) (2, 9) (3, 6) (4, 5) (5, 2) (6, 8) (7, 2) (8, 3) (9, 8)\n",
      "\n"
     ]
    }
   ],
   "source": [
    "from Graph import Graph, MinSpanningTree, preorder\n",
    "\n",
    "G = Graph.random_graph(nodes_num=10, prob=1, weighed=True)\n",
    "G.weighted = True\n",
    "print(G)"
   ]
  },
  {
   "cell_type": "markdown",
   "metadata": {},
   "source": [
    "Znajdujemy minimalne drzewo spinające na grafie $G$."
   ]
  },
  {
   "cell_type": "code",
   "execution_count": 2,
   "metadata": {},
   "outputs": [
    {
     "name": "stdout",
     "output_type": "stream",
     "text": [
      "1: (4, 1) (6, 5)\n",
      "4: (1, 1) (7, 1) (9, 2)\n",
      "7: (4, 1)\n",
      "9: (4, 2) (5, 1)\n",
      "5: (9, 1) (2, 2) (10, 2)\n",
      "2: (5, 2) (8, 1) (3, 2)\n",
      "8: (2, 1)\n",
      "3: (2, 2)\n",
      "10: (5, 2)\n",
      "6: (1, 5)\n",
      "\n"
     ]
    }
   ],
   "source": [
    "T = MinSpanningTree(G)\n",
    "print(T)"
   ]
  },
  {
   "cell_type": "markdown",
   "metadata": {},
   "source": [
    "Zwracamy wierzchołki w kolejności preorder."
   ]
  },
  {
   "cell_type": "code",
   "execution_count": 4,
   "metadata": {},
   "outputs": [
    {
     "data": {
      "text/plain": [
       "[1, 4, 7, 9, 5, 2, 8, 3, 10, 6]"
      ]
     },
     "execution_count": 4,
     "metadata": {},
     "output_type": "execute_result"
    }
   ],
   "source": [
    "preorder(T, 1)"
   ]
  }
 ],
 "metadata": {
  "kernelspec": {
   "display_name": ".venv",
   "language": "python",
   "name": "python3"
  },
  "language_info": {
   "codemirror_mode": {
    "name": "ipython",
    "version": 3
   },
   "file_extension": ".py",
   "mimetype": "text/x-python",
   "name": "python",
   "nbconvert_exporter": "python",
   "pygments_lexer": "ipython3",
   "version": "3.12.3"
  }
 },
 "nbformat": 4,
 "nbformat_minor": 2
}
